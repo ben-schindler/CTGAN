{
 "cells": [
  {
   "cell_type": "code",
   "execution_count": 7,
   "id": "eef639ca-93ce-4d2e-bfe0-9736a876b159",
   "metadata": {},
   "outputs": [],
   "source": [
    "import pandas as pd\n"
   ]
  },
  {
   "cell_type": "code",
   "execution_count": 15,
   "id": "9210fb3b-9d5f-4bd4-89a7-589749ca552f",
   "metadata": {},
   "outputs": [],
   "source": [
    "train = pd.read_csv(\"examples/csv/orig_cancer/train_cancer.csv\")\n",
    "test = pd.read_csv(\"examples/csv/orig_cancer/test_cancer.csv\")\n",
    "\n",
    "cancer_df=pd.concat([train, test])\n",
    "cancer_df.to_csv(\"examples/csv/cancer.csv\", index=None)"
   ]
  },
  {
   "cell_type": "code",
   "execution_count": 18,
   "id": "d9985689-8f08-47b8-a1f6-bef1d736633f",
   "metadata": {},
   "outputs": [
    {
     "data": {
      "text/plain": [
       "STDs_number\n",
       "0.0    603\n",
       "2.0     31\n",
       "1.0     27\n",
       "3.0      6\n",
       "4.0      1\n",
       "Name: count, dtype: int64"
      ]
     },
     "execution_count": 18,
     "metadata": {},
     "output_type": "execute_result"
    }
   ],
   "source": [
    "cancer_df[\"STDs_number\"].value_counts()"
   ]
  },
  {
   "cell_type": "code",
   "execution_count": null,
   "id": "442fc80c-5aa2-4aab-9b8e-635975757df9",
   "metadata": {},
   "outputs": [],
   "source": []
  }
 ],
 "metadata": {
  "kernelspec": {
   "display_name": "Python 3 (ipykernel)",
   "language": "python",
   "name": "python3"
  },
  "language_info": {
   "codemirror_mode": {
    "name": "ipython",
    "version": 3
   },
   "file_extension": ".py",
   "mimetype": "text/x-python",
   "name": "python",
   "nbconvert_exporter": "python",
   "pygments_lexer": "ipython3",
   "version": "3.10.13"
  }
 },
 "nbformat": 4,
 "nbformat_minor": 5
}
