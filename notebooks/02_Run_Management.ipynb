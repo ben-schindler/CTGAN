{
 "cells": [
  {
   "cell_type": "code",
   "execution_count": 1,
   "id": "12ed634d-6a81-4b07-a81b-5ccd818b2ad9",
   "metadata": {},
   "outputs": [],
   "source": [
    "import wandb\n",
    "import os\n",
    "import os.path as path\n",
    "api = wandb.Api()\n"
   ]
  },
  {
   "cell_type": "code",
   "execution_count": 5,
   "id": "10945754-efc7-40d1-b9ab-8bfd004e1b83",
   "metadata": {},
   "outputs": [],
   "source": [
    "for r in api.runs(\"CTGAN-ctgan\"):\n",
    "    if \"_2024_\" in r.name:\n",
    "        if r.group != r.name.split(\"_2024_\")[0]:\n",
    "            r.group = r.name.split(\"_2024_\")[0]\n",
    "            r.update()\n",
    "            \n",
    "for r in api.runs(\"CTGAN\"):\n",
    "    if \"_2024_\" in r.name:\n",
    "        if r.group != r.name.split(\"_2024_\")[0]:\n",
    "            r.group = r.name.split(\"_2024_\")[0]\n",
    "            r.update()"
   ]
  },
  {
   "cell_type": "code",
   "execution_count": 5,
   "id": "2aee34b4-5154-4f4c-a11e-029d09c156f0",
   "metadata": {},
   "outputs": [],
   "source": []
  }
 ],
 "metadata": {
  "kernelspec": {
   "display_name": "StudioGAN",
   "language": "python",
   "name": "studiogan"
  },
  "language_info": {
   "codemirror_mode": {
    "name": "ipython",
    "version": 3
   },
   "file_extension": ".py",
   "mimetype": "text/x-python",
   "name": "python",
   "nbconvert_exporter": "python",
   "pygments_lexer": "ipython3",
   "version": "3.10.13"
  }
 },
 "nbformat": 4,
 "nbformat_minor": 5
}
